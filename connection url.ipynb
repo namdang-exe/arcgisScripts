{
 "cells": [
  {
   "cell_type": "code",
   "execution_count": 2,
   "metadata": {},
   "outputs": [],
   "source": [
    "from arcgis.gis import GIS\n",
    "import ast"
   ]
  },
  {
   "cell_type": "code",
   "execution_count": 3,
   "metadata": {},
   "outputs": [],
   "source": [
    "if __name__ == '__main__':\n",
    "    # read account credentials file\n",
    "    f = open(\"account\", \"r\")\n",
    "    cred = f.read()\n",
    "    # convert from str to dict\n",
    "    cred = ast.literal_eval(cred)\n",
    "    f.close()"
   ]
  },
  {
   "cell_type": "code",
   "execution_count": 4,
   "metadata": {},
   "outputs": [],
   "source": [
    "    # Log in to arcgis account online\n",
    "    gis = GIS(username=cred['username'], password=cred['password'])\n",
    "    user = gis.users.get(cred['username'])"
   ]
  },
  {
   "cell_type": "code",
   "execution_count": 7,
   "metadata": {},
   "outputs": [
    {
     "data": {
      "text/html": [
       "<div class=\"9item_container\" style=\"height: auto; overflow: hidden; border: 1px solid #cfcfcf; border-radius: 2px; background: #f6fafa; line-height: 1.21429em; padding: 10px;\">\n",
       "                    <div class=\"item_left\" style=\"width: 210px; float: left;\">\n",
       "                       <a href='https://ALDOT.maps.arcgis.com/home/user.html?user=dangn_ALDOT' target='_blank'>\n",
       "                        <img src='https://ALDOT.maps.arcgis.com/home/js/arcgisonline/css/images/no-user-thumb.jpg' class=\"itemThumbnail\">\n",
       "                       </a>\n",
       "                    </div>\n",
       "\n",
       "                    <div class=\"item_right\" style=\"float: none; width: auto; overflow: hidden;\">\n",
       "                        <a href='https://ALDOT.maps.arcgis.com/home/user.html?user=dangn_ALDOT' target='_blank'><b>Nam Dang</b>\n",
       "                        </a>\n",
       "                        <br/><br/><b>Bio</b>: Hello, my name is Nam. I am an intern for GIS/ Programming support at ALDOT spring semester 2021\n",
       "                        <br/><b>First Name</b>: Nam\n",
       "                        <br/><b>Last Name</b>: Dang\n",
       "                        <br/><b>Username</b>: dangn_ALDOT\n",
       "                        <br/><b>Joined</b>: January 25, 2021\n",
       "\n",
       "                    </div>\n",
       "                </div>\n",
       "                "
      ],
      "text/plain": [
       "<User username:dangn_ALDOT>"
      ]
     },
     "execution_count": 7,
     "metadata": {},
     "output_type": "execute_result"
    }
   ],
   "source": [
    "    user"
   ]
  },
  {
   "cell_type": "code",
   "execution_count": 13,
   "metadata": {},
   "outputs": [
    {
     "data": {
      "text/plain": [
       "'https://ALDOT.maps.arcgis.com'"
      ]
     },
     "execution_count": 13,
     "metadata": {},
     "output_type": "execute_result"
    }
   ],
   "source": [
    "gis.url"
   ]
  },
  {
   "cell_type": "code",
   "execution_count": 61,
   "metadata": {},
   "outputs": [],
   "source": [
    "res = gis.content.search(\"752e3069336f40008cab8edf85d92c08\", \"Feature Layer\")"
   ]
  },
  {
   "cell_type": "code",
   "execution_count": 62,
   "metadata": {},
   "outputs": [
    {
     "data": {
      "text/plain": [
       "[]"
      ]
     },
     "execution_count": 62,
     "metadata": {},
     "output_type": "execute_result"
    }
   ],
   "source": [
    "res"
   ]
  },
  {
   "cell_type": "code",
   "execution_count": null,
   "metadata": {},
   "outputs": [],
   "source": [
    "# All feature classes"
   ]
  },
  {
   "cell_type": "code",
   "execution_count": 40,
   "metadata": {},
   "outputs": [],
   "source": [
    "features = gis.content.search(\"Feature Layer\")"
   ]
  },
  {
   "cell_type": "code",
   "execution_count": 41,
   "metadata": {},
   "outputs": [
    {
     "data": {
      "text/plain": [
       "[<Item title:\"Redline for Ownership and Maintenance\" type:Feature Layer Collection owner:barnesj_ALDOT>,\n",
       " <Item title:\"SW Region Safety Features\" type:Feature Layer Collection owner:bordenj_ALDOT>,\n",
       " <Item title:\"Traffic Management Centers\" type:Feature Layer Collection owner:barnesj_ALDOT>,\n",
       " <Item title:\"Fayette_Area\" type:Feature Layer Collection owner:englebertc_ALDOT>,\n",
       " <Item title:\"ALL_Structure\" type:Feature Layer Collection owner:englebertc_ALDOT>,\n",
       " <Item title:\"2016 City Limits and Places (Census Data)\" type:Feature Layer Collection owner:formbyj_ALDOT>,\n",
       " <Item title:\"Denied Access Fencing\" type:Feature Layer Collection owner:englebertc_ALDOT>,\n",
       " <Item title:\"Southeast_Region_Area_Boundaries\" type:Feature Layer Collection owner:ellista_ALDOT>,\n",
       " <Item title:\"Southeast_Region_County_Boundaries\" type:Feature Layer Collection owner:ellista_ALDOT>,\n",
       " <Item title:\"September 8th 2016 Highway Functional Classification\" type:Feature Layer Collection owner:formbyj_ALDOT>]"
      ]
     },
     "execution_count": 41,
     "metadata": {},
     "output_type": "execute_result"
    }
   ],
   "source": [
    "features"
   ]
  },
  {
   "cell_type": "code",
   "execution_count": 42,
   "metadata": {},
   "outputs": [],
   "source": [
    "# IDs of all feature classes"
   ]
  },
  {
   "cell_type": "code",
   "execution_count": 43,
   "metadata": {},
   "outputs": [
    {
     "name": "stdout",
     "output_type": "stream",
     "text": [
      "<Item title:\"Redline for Ownership and Maintenance\" type:Feature Layer Collection owner:barnesj_ALDOT>\n",
      "id:  6175cab6626643c4beb2229c5a311095\n",
      "<Item title:\"SW Region Safety Features\" type:Feature Layer Collection owner:bordenj_ALDOT>\n",
      "id:  461a12ecf2324c86b9a24afe3461080e\n",
      "<Item title:\"Traffic Management Centers\" type:Feature Layer Collection owner:barnesj_ALDOT>\n",
      "id:  4f52e5a07d974d03b6620d213a8c4289\n",
      "<Item title:\"Fayette_Area\" type:Feature Layer Collection owner:englebertc_ALDOT>\n",
      "id:  2375c919d1884864b3440a3ad621cd4f\n",
      "<Item title:\"ALL_Structure\" type:Feature Layer Collection owner:englebertc_ALDOT>\n",
      "id:  fee38255e7284cf2bf18a3eb6a55b961\n",
      "<Item title:\"2016 City Limits and Places (Census Data)\" type:Feature Layer Collection owner:formbyj_ALDOT>\n",
      "id:  d32a12e462294b7bb84b9aee8c94fcb0\n",
      "<Item title:\"Denied Access Fencing\" type:Feature Layer Collection owner:englebertc_ALDOT>\n",
      "id:  ee7bcc018d414f64b68e24ea3808950d\n",
      "<Item title:\"Southeast_Region_Area_Boundaries\" type:Feature Layer Collection owner:ellista_ALDOT>\n",
      "id:  74a73417f46c4844a6bb25c4ddc2cc38\n",
      "<Item title:\"Southeast_Region_County_Boundaries\" type:Feature Layer Collection owner:ellista_ALDOT>\n",
      "id:  eaa24e144f6a455ebb2eead0d09b1ebd\n",
      "<Item title:\"September 8th 2016 Highway Functional Classification\" type:Feature Layer Collection owner:formbyj_ALDOT>\n",
      "id:  faa690478e4546829be508d0a7e79f38\n"
     ]
    }
   ],
   "source": [
    "for f in features:\n",
    "    print(f)\n",
    "    print(\"id: \", f.id)"
   ]
  },
  {
   "cell_type": "code",
   "execution_count": null,
   "metadata": {},
   "outputs": [],
   "source": [
    "# Using \"?\" to look at the docstring"
   ]
  },
  {
   "cell_type": "code",
   "execution_count": 44,
   "metadata": {},
   "outputs": [],
   "source": [
    "for feat in features:\n",
    "    feat?"
   ]
  },
  {
   "cell_type": "code",
   "execution_count": null,
   "metadata": {},
   "outputs": [],
   "source": [
    "# Try f.layers and f.tables"
   ]
  },
  {
   "cell_type": "code",
   "execution_count": 45,
   "metadata": {},
   "outputs": [
    {
     "name": "stdout",
     "output_type": "stream",
     "text": [
      "<Item title:\"Redline for Ownership and Maintenance\" type:Feature Layer Collection owner:barnesj_ALDOT>\n",
      "[<FeatureLayer url:\"https://services.arcgis.com/LZzQi3xDiclG6XvQ/arcgis/rest/services/Redline_for_Ownership_and_Maintenance/FeatureServer/0\">]\n",
      "This Feature Layer doesn't have any tables\n",
      "<Item title:\"SW Region Safety Features\" type:Feature Layer Collection owner:bordenj_ALDOT>\n",
      "[<FeatureLayer url:\"https://services.arcgis.com/LZzQi3xDiclG6XvQ/arcgis/rest/services/SW_Region_Safety_Features/FeatureServer/0\">]\n",
      "This Feature Layer doesn't have any tables\n",
      "<Item title:\"Traffic Management Centers\" type:Feature Layer Collection owner:barnesj_ALDOT>\n",
      "[<FeatureLayer url:\"https://services.arcgis.com/LZzQi3xDiclG6XvQ/arcgis/rest/services/Traffic_Management_Centers/FeatureServer/0\">]\n",
      "This Feature Layer doesn't have any tables\n",
      "<Item title:\"Fayette_Area\" type:Feature Layer Collection owner:englebertc_ALDOT>\n",
      "[<FeatureLayer url:\"https://services.arcgis.com/LZzQi3xDiclG6XvQ/arcgis/rest/services/Fayette_Area/FeatureServer/0\">]\n",
      "This Feature Layer doesn't have any tables\n",
      "<Item title:\"ALL_Structure\" type:Feature Layer Collection owner:englebertc_ALDOT>\n",
      "[<FeatureLayer url:\"https://services.arcgis.com/LZzQi3xDiclG6XvQ/arcgis/rest/services/WCR_Structure/FeatureServer/0\">]\n",
      "This Feature Layer doesn't have any tables\n",
      "<Item title:\"2016 City Limits and Places (Census Data)\" type:Feature Layer Collection owner:formbyj_ALDOT>\n",
      "[<FeatureLayer url:\"https://services.arcgis.com/LZzQi3xDiclG6XvQ/arcgis/rest/services/September_8_2016_City_Limits/FeatureServer/0\">]\n",
      "This Feature Layer doesn't have any tables\n",
      "<Item title:\"Denied Access Fencing\" type:Feature Layer Collection owner:englebertc_ALDOT>\n",
      "[<FeatureLayer url:\"https://services.arcgis.com/LZzQi3xDiclG6XvQ/arcgis/rest/services/Denied_Access_Fencing/FeatureServer/0\">]\n",
      "This Feature Layer doesn't have any tables\n",
      "<Item title:\"Southeast_Region_Area_Boundaries\" type:Feature Layer Collection owner:ellista_ALDOT>\n",
      "[<FeatureLayer url:\"https://services.arcgis.com/LZzQi3xDiclG6XvQ/arcgis/rest/services/Southeast_Region_Area_Boundaries/FeatureServer/0\">]\n",
      "This Feature Layer doesn't have any tables\n",
      "<Item title:\"Southeast_Region_County_Boundaries\" type:Feature Layer Collection owner:ellista_ALDOT>\n",
      "[<FeatureLayer url:\"https://services.arcgis.com/LZzQi3xDiclG6XvQ/arcgis/rest/services/Southeast_Region_County_Boundaries/FeatureServer/0\">]\n",
      "This Feature Layer doesn't have any tables\n",
      "<Item title:\"September 8th 2016 Highway Functional Classification\" type:Feature Layer Collection owner:formbyj_ALDOT>\n",
      "[<FeatureLayer url:\"https://services.arcgis.com/LZzQi3xDiclG6XvQ/arcgis/rest/services/September_8th_2016_Highway_Functional_Classification/FeatureServer/0\">]\n",
      "This Feature Layer doesn't have any tables\n"
     ]
    }
   ],
   "source": [
    "for feat in features:\n",
    "    print(feat)\n",
    "    # Length of the layers list = 0 (not None) when a Feature Layers doesn't have any layer\n",
    "    if len(feat.layers)!= 0:\n",
    "        print(feat.layers)\n",
    "    else:\n",
    "        print(\"This Feature Layer doesn't have any layers\")\n",
    "    # Length of tables = 0 (not None) when a Feature Layers doesn't have any table\n",
    "    if len(feat.tables)!= 0:\n",
    "        print(feat.tables)\n",
    "    else:\n",
    "        print(\"This Feature Layer doesn't have any tables\")"
   ]
  },
  {
   "cell_type": "code",
   "execution_count": null,
   "metadata": {},
   "outputs": [],
   "source": [
    "# Try f.properties"
   ]
  },
  {
   "cell_type": "code",
   "execution_count": 46,
   "metadata": {},
   "outputs": [
    {
     "name": "stdout",
     "output_type": "stream",
     "text": [
      "None\n",
      "None\n",
      "None\n",
      "None\n",
      "None\n",
      "None\n",
      "None\n",
      "None\n",
      "None\n",
      "None\n"
     ]
    }
   ],
   "source": [
    "for feat in features:\n",
    "    print(feat.properties)"
   ]
  },
  {
   "cell_type": "code",
   "execution_count": 48,
   "metadata": {},
   "outputs": [
    {
     "name": "stdout",
     "output_type": "stream",
     "text": [
      "<Item title:\"Redline for Ownership and Maintenance\" type:Feature Layer Collection owner:barnesj_ALDOT>\n",
      "Line layer\n",
      "<Item title:\"SW Region Safety Features\" type:Feature Layer Collection owner:bordenj_ALDOT>\n",
      "Point layer\n",
      "<Item title:\"Traffic Management Centers\" type:Feature Layer Collection owner:barnesj_ALDOT>\n",
      "Point layer\n",
      "<Item title:\"Fayette_Area\" type:Feature Layer Collection owner:englebertc_ALDOT>\n",
      "Fayette_Area\n",
      "<Item title:\"ALL_Structure\" type:Feature Layer Collection owner:englebertc_ALDOT>\n",
      "WCR_Structure\n",
      "<Item title:\"2016 City Limits and Places (Census Data)\" type:Feature Layer Collection owner:formbyj_ALDOT>\n",
      "September_8_2016_City_Limits\n",
      "<Item title:\"Denied Access Fencing\" type:Feature Layer Collection owner:englebertc_ALDOT>\n",
      "Denied Access Fencing\n",
      "<Item title:\"Southeast_Region_Area_Boundaries\" type:Feature Layer Collection owner:ellista_ALDOT>\n",
      "SOUTHEAST_REGION_AREA_BOUNDARY\n",
      "<Item title:\"Southeast_Region_County_Boundaries\" type:Feature Layer Collection owner:ellista_ALDOT>\n",
      "SOUTHEAST_REGION_COUNTY_BOUNDARY\n",
      "<Item title:\"September 8th 2016 Highway Functional Classification\" type:Feature Layer Collection owner:formbyj_ALDOT>\n",
      "September_8th_2016_Highway_Functional_Classification\n"
     ]
    }
   ],
   "source": [
    "for feat in features:\n",
    "    print(feat)\n",
    "    for lyr in feat.layers:\n",
    "        print(lyr.properties.name)"
   ]
  },
  {
   "cell_type": "code",
   "execution_count": null,
   "metadata": {},
   "outputs": [],
   "source": []
  },
  {
   "cell_type": "code",
   "execution_count": null,
   "metadata": {},
   "outputs": [],
   "source": []
  }
 ],
 "metadata": {
  "kernelspec": {
   "display_name": "Python 3",
   "language": "python",
   "name": "python3"
  },
  "language_info": {
   "codemirror_mode": {
    "name": "ipython",
    "version": 3
   },
   "file_extension": ".py",
   "mimetype": "text/x-python",
   "name": "python",
   "nbconvert_exporter": "python",
   "pygments_lexer": "ipython3",
   "version": "3.7.9"
  }
 },
 "nbformat": 4,
 "nbformat_minor": 4
}
