{
 "cells": [
  {
   "cell_type": "code",
   "execution_count": 3,
   "metadata": {},
   "outputs": [],
   "source": [
    "import arcpy\n",
    "import os\n",
    "from os import path"
   ]
  },
  {
   "cell_type": "code",
   "execution_count": 4,
   "metadata": {},
   "outputs": [],
   "source": [
    "filePath = path.abspath(os.getcwd())\n",
    "db_file = \"csvegisds1t.sde\"\n",
    "# db_file = \"csvgisds24s.sde\"\n",
    "db_path = path.join(filePath, db_file)"
   ]
  },
  {
   "cell_type": "code",
   "execution_count": 5,
   "metadata": {},
   "outputs": [
    {
     "name": "stdout",
     "output_type": "stream",
     "text": [
      "Connects to the first database successfully!\n"
     ]
    }
   ],
   "source": [
    "if not path.exists(db_path):\n",
    "    try:\n",
    "        db_path = arcpy.CreateDatabaseConnection_management(filePath, db_file,\n",
    "                                                           \"SQL_SERVER\", \"csvegisds1t\",\n",
    "                                                           \"OPERATING_SYSTEM_AUTH\", database=\"GISDB\")\n",
    "        print(\"Connects to the database successfully!\")\n",
    "    except Exception as genErr:\n",
    "        print(\"General Error: {}\".format(genErr))\n",
    "        raise Exception(genErr)"
   ]
  },
  {
   "cell_type": "code",
   "execution_count": 13,
   "metadata": {},
   "outputs": [
    {
     "name": "stdout",
     "output_type": "stream",
     "text": [
      "Connects to the second database successfully!\n"
     ]
    }
   ],
   "source": [
    "# db_file = \"csvgisds24s.sde\"\n",
    "# Establish a connection to CSVEGISDS24S\n",
    "if not path.exists(db_path):\n",
    "    try:\n",
    "        db_path = arcpy.CreateDatabaseConnection_management(filePath, db_file,\n",
    "                                                           \"SQL_SERVER\", \"csvgisds24s\",\n",
    "                                                           \"OPERATING_SYSTEM_AUTH\", database=\"EGISDB\")\n",
    "        print(\"Connects to the database successfully!\")\n",
    "    except Exception as genErr:\n",
    "        print(\"General Error: {}\".format(genErr))\n",
    "        raise Exception(genErr)\n"
   ]
  },
  {
   "cell_type": "code",
   "execution_count": 22,
   "metadata": {},
   "outputs": [],
   "source": [
    "import pandas as pd"
   ]
  },
  {
   "cell_type": "code",
   "execution_count": 26,
   "metadata": {},
   "outputs": [],
   "source": [
    "data = {}\n",
    "df = pd.DataFrame(data, columns=['Feature Dataset Name', 'Feature Class Name'])\n",
    "arcpy.env.workspace = str(db_path)"
   ]
  },
  {
   "cell_type": "code",
   "execution_count": 27,
   "metadata": {},
   "outputs": [],
   "source": [
    "counter = 0"
   ]
  },
  {
   "cell_type": "code",
   "execution_count": 28,
   "metadata": {},
   "outputs": [],
   "source": [
    "featureDatasets = arcpy.ListDatasets()\n",
    "for dataset in featureDatasets:\n",
    "    featureClasses = arcpy.ListFeatureClasses(feature_dataset=dataset)\n",
    "    for j in range(len(featureClasses)):\n",
    "        if j == 0:\n",
    "            df.loc[counter+j] = dataset, featureClasses[j]\n",
    "        else:\n",
    "            df.loc[counter+j] = \"\", featureClasses[j]\n",
    "    counter = counter + len(featureClasses)\n",
    "    # add the space at the end of each dataset\n",
    "    df.loc[counter] = \"\", \"\"\n",
    "    counter += 1"
   ]
  },
  {
   "cell_type": "code",
   "execution_count": 29,
   "metadata": {},
   "outputs": [
    {
     "data": {
      "text/html": [
       "<div>\n",
       "<style scoped>\n",
       "    .dataframe tbody tr th:only-of-type {\n",
       "        vertical-align: middle;\n",
       "    }\n",
       "\n",
       "    .dataframe tbody tr th {\n",
       "        vertical-align: top;\n",
       "    }\n",
       "\n",
       "    .dataframe thead th {\n",
       "        text-align: right;\n",
       "    }\n",
       "</style>\n",
       "<table border=\"1\" class=\"dataframe\">\n",
       "  <thead>\n",
       "    <tr style=\"text-align: right;\">\n",
       "      <th></th>\n",
       "      <th>Feature Dataset Name</th>\n",
       "      <th>Feature Class Name</th>\n",
       "    </tr>\n",
       "  </thead>\n",
       "  <tbody>\n",
       "    <tr>\n",
       "      <th>0</th>\n",
       "      <td>GISDB.GIS.Administrative</td>\n",
       "      <td>GISDB.GIS.Urban_Areas_NationalAtlas</td>\n",
       "    </tr>\n",
       "    <tr>\n",
       "      <th>1</th>\n",
       "      <td></td>\n",
       "      <td>GISDB.GIS.Block_Groups_Census2K</td>\n",
       "    </tr>\n",
       "    <tr>\n",
       "      <th>2</th>\n",
       "      <td></td>\n",
       "      <td>gisdb.GIS.ALDOT_Divisions_2011</td>\n",
       "    </tr>\n",
       "    <tr>\n",
       "      <th>3</th>\n",
       "      <td></td>\n",
       "      <td>GISDB.GIS.Cities_Census2K_UTM84</td>\n",
       "    </tr>\n",
       "    <tr>\n",
       "      <th>4</th>\n",
       "      <td></td>\n",
       "      <td>GISDB.GIS.ALSenate03</td>\n",
       "    </tr>\n",
       "    <tr>\n",
       "      <th>...</th>\n",
       "      <td>...</td>\n",
       "      <td>...</td>\n",
       "    </tr>\n",
       "    <tr>\n",
       "      <th>201</th>\n",
       "      <td>GISDB.ENVIRO.TestData</td>\n",
       "      <td>GISDB.ENVIRO.TestData</td>\n",
       "    </tr>\n",
       "    <tr>\n",
       "      <th>202</th>\n",
       "      <td></td>\n",
       "      <td></td>\n",
       "    </tr>\n",
       "    <tr>\n",
       "      <th>203</th>\n",
       "      <td>GISDB.SEREGION.InvasiveSpecies</td>\n",
       "      <td>GISDB.SEREGION.Trees</td>\n",
       "    </tr>\n",
       "    <tr>\n",
       "      <th>204</th>\n",
       "      <td></td>\n",
       "      <td>GISDB.SEREGION.GRASSES</td>\n",
       "    </tr>\n",
       "    <tr>\n",
       "      <th>205</th>\n",
       "      <td></td>\n",
       "      <td></td>\n",
       "    </tr>\n",
       "  </tbody>\n",
       "</table>\n",
       "<p>206 rows × 2 columns</p>\n",
       "</div>"
      ],
      "text/plain": [
       "               Feature Dataset Name                   Feature Class Name\n",
       "0          GISDB.GIS.Administrative  GISDB.GIS.Urban_Areas_NationalAtlas\n",
       "1                                        GISDB.GIS.Block_Groups_Census2K\n",
       "2                                         gisdb.GIS.ALDOT_Divisions_2011\n",
       "3                                        GISDB.GIS.Cities_Census2K_UTM84\n",
       "4                                                   GISDB.GIS.ALSenate03\n",
       "..                              ...                                  ...\n",
       "201           GISDB.ENVIRO.TestData                GISDB.ENVIRO.TestData\n",
       "202                                                                     \n",
       "203  GISDB.SEREGION.InvasiveSpecies                 GISDB.SEREGION.Trees\n",
       "204                                               GISDB.SEREGION.GRASSES\n",
       "205                                                                     \n",
       "\n",
       "[206 rows x 2 columns]"
      ]
     },
     "execution_count": 29,
     "metadata": {},
     "output_type": "execute_result"
    }
   ],
   "source": [
    "df"
   ]
  },
  {
   "cell_type": "code",
   "execution_count": 30,
   "metadata": {},
   "outputs": [],
   "source": [
    "arcpy.env.workspace = str(db_path)"
   ]
  },
  {
   "cell_type": "code",
   "execution_count": 31,
   "metadata": {},
   "outputs": [],
   "source": [
    "featureClasses = arcpy.ListFeatureClasses()\n",
    "for i in range(len(featureClasses)):\n",
    "    if i == 0:\n",
    "        df.loc[counter+i] = \"Root\", featureClasses[i]\n",
    "    else:\n",
    "        df.loc[counter+i] = \"\", featureClasses[i]\n",
    "counter = counter + len(featureClasses)"
   ]
  },
  {
   "cell_type": "code",
   "execution_count": 32,
   "metadata": {},
   "outputs": [
    {
     "data": {
      "text/html": [
       "<div>\n",
       "<style scoped>\n",
       "    .dataframe tbody tr th:only-of-type {\n",
       "        vertical-align: middle;\n",
       "    }\n",
       "\n",
       "    .dataframe tbody tr th {\n",
       "        vertical-align: top;\n",
       "    }\n",
       "\n",
       "    .dataframe thead th {\n",
       "        text-align: right;\n",
       "    }\n",
       "</style>\n",
       "<table border=\"1\" class=\"dataframe\">\n",
       "  <thead>\n",
       "    <tr style=\"text-align: right;\">\n",
       "      <th></th>\n",
       "      <th>Feature Dataset Name</th>\n",
       "      <th>Feature Class Name</th>\n",
       "    </tr>\n",
       "  </thead>\n",
       "  <tbody>\n",
       "    <tr>\n",
       "      <th>0</th>\n",
       "      <td>GISDB.GIS.Administrative</td>\n",
       "      <td>GISDB.GIS.Urban_Areas_NationalAtlas</td>\n",
       "    </tr>\n",
       "    <tr>\n",
       "      <th>1</th>\n",
       "      <td></td>\n",
       "      <td>GISDB.GIS.Block_Groups_Census2K</td>\n",
       "    </tr>\n",
       "    <tr>\n",
       "      <th>2</th>\n",
       "      <td></td>\n",
       "      <td>gisdb.GIS.ALDOT_Divisions_2011</td>\n",
       "    </tr>\n",
       "    <tr>\n",
       "      <th>3</th>\n",
       "      <td></td>\n",
       "      <td>GISDB.GIS.Cities_Census2K_UTM84</td>\n",
       "    </tr>\n",
       "    <tr>\n",
       "      <th>4</th>\n",
       "      <td></td>\n",
       "      <td>GISDB.GIS.ALSenate03</td>\n",
       "    </tr>\n",
       "    <tr>\n",
       "      <th>...</th>\n",
       "      <td>...</td>\n",
       "      <td>...</td>\n",
       "    </tr>\n",
       "    <tr>\n",
       "      <th>503</th>\n",
       "      <td></td>\n",
       "      <td>GISDB.CPMS.GeoGISProjectsPointView</td>\n",
       "    </tr>\n",
       "    <tr>\n",
       "      <th>504</th>\n",
       "      <td></td>\n",
       "      <td>GISDB.CPMS.STORM_WATER_PROJECTS_LINE_VIEW</td>\n",
       "    </tr>\n",
       "    <tr>\n",
       "      <th>505</th>\n",
       "      <td></td>\n",
       "      <td>GISDB.CPMS.VW_ATRIP_PROJ_LINE</td>\n",
       "    </tr>\n",
       "    <tr>\n",
       "      <th>506</th>\n",
       "      <td></td>\n",
       "      <td>GISDB.CPMS.VW_ATRIP_PROJ_POINT</td>\n",
       "    </tr>\n",
       "    <tr>\n",
       "      <th>507</th>\n",
       "      <td></td>\n",
       "      <td>GISDB.EGIS.vwUSRoute</td>\n",
       "    </tr>\n",
       "  </tbody>\n",
       "</table>\n",
       "<p>508 rows × 2 columns</p>\n",
       "</div>"
      ],
      "text/plain": [
       "         Feature Dataset Name                         Feature Class Name\n",
       "0    GISDB.GIS.Administrative        GISDB.GIS.Urban_Areas_NationalAtlas\n",
       "1                                        GISDB.GIS.Block_Groups_Census2K\n",
       "2                                         gisdb.GIS.ALDOT_Divisions_2011\n",
       "3                                        GISDB.GIS.Cities_Census2K_UTM84\n",
       "4                                                   GISDB.GIS.ALSenate03\n",
       "..                        ...                                        ...\n",
       "503                                   GISDB.CPMS.GeoGISProjectsPointView\n",
       "504                            GISDB.CPMS.STORM_WATER_PROJECTS_LINE_VIEW\n",
       "505                                        GISDB.CPMS.VW_ATRIP_PROJ_LINE\n",
       "506                                       GISDB.CPMS.VW_ATRIP_PROJ_POINT\n",
       "507                                                 GISDB.EGIS.vwUSRoute\n",
       "\n",
       "[508 rows x 2 columns]"
      ]
     },
     "execution_count": 32,
     "metadata": {},
     "output_type": "execute_result"
    }
   ],
   "source": [
    "df"
   ]
  },
  {
   "cell_type": "code",
   "execution_count": 33,
   "metadata": {},
   "outputs": [],
   "source": [
    "outfile = path.join(filePath, \"/database2.csv\")\n",
    "df.to_csv(outfile)"
   ]
  },
  {
   "cell_type": "code",
   "execution_count": 15,
   "metadata": {},
   "outputs": [],
   "source": [
    "os.remove(str(db_path))"
   ]
  }
 ],
 "metadata": {
  "kernelspec": {
   "display_name": "Python 3",
   "language": "python",
   "name": "python3"
  },
  "language_info": {
   "codemirror_mode": {
    "name": "ipython",
    "version": 3
   },
   "file_extension": ".py",
   "mimetype": "text/x-python",
   "name": "python",
   "nbconvert_exporter": "python",
   "pygments_lexer": "ipython3",
   "version": "3.7.10"
  }
 },
 "nbformat": 4,
 "nbformat_minor": 4
}
