{
 "cells": [
  {
   "cell_type": "code",
   "execution_count": 3,
   "metadata": {},
   "outputs": [],
   "source": [
    "import os\n",
    "import tempfile\n",
    "import arcpy\n",
    "import ast"
   ]
  },
  {
   "cell_type": "code",
   "execution_count": 7,
   "metadata": {},
   "outputs": [],
   "source": [
    "filePath = r\"C:\\Users\\dangn\\PycharmProjects\\arcgisTest\\account\""
   ]
  },
  {
   "cell_type": "code",
   "execution_count": 8,
   "metadata": {},
   "outputs": [],
   "source": [
    "def getCredential(file):\n",
    "    # read account credential file\n",
    "    f = open(file, \"r\")\n",
    "    cred = f.read()\n",
    "    # convert from str to dict\n",
    "    cred = ast.literal_eval(cred)\n",
    "    f.close()\n",
    "    return cred"
   ]
  },
  {
   "cell_type": "code",
   "execution_count": 11,
   "metadata": {},
   "outputs": [
    {
     "name": "stdout",
     "output_type": "stream",
     "text": [
      "C:\\Users\\dangn\\PycharmProjects\\arcgisTest\\tmp69rh4fyo.sde\n",
      "Connect successful\n"
     ]
    }
   ],
   "source": [
    "cred = getCredential(filePath)\n",
    "# Create temporary file\n",
    "fd, path = tempfile.mkstemp(suffix=\".sde\")\n",
    "try:\n",
    "    with os.fdopen(fd, 'w') as tmp:\n",
    "        # Establish a connection to CSVEGISDS01\n",
    "        print(arcpy.CreateDatabaseConnection_management(\"C:/Users/dangn/PycharmProjects/arcgisTest\", path, \"SQL_SERVER\",\n",
    "                                                  \"SQL Server\",\n",
    "                                                  account_authentication=True, username=cred[\"username\"],\n",
    "                                                  password=cred[\"password\"], database=\"CSVEGISDS01\"))\n",
    "        print(\"Connect successful\")\n",
    "except:\n",
    "    print(\"Some exception occured!\")\n",
    "finally:\n",
    "    os.remove(path)"
   ]
  },
  {
   "cell_type": "code",
   "execution_count": null,
   "metadata": {},
   "outputs": [],
   "source": []
  }
 ],
 "metadata": {
  "kernelspec": {
   "display_name": "Python 3",
   "language": "python",
   "name": "python3"
  },
  "language_info": {
   "codemirror_mode": {
    "name": "ipython",
    "version": 3
   },
   "file_extension": ".py",
   "mimetype": "text/x-python",
   "name": "python",
   "nbconvert_exporter": "python",
   "pygments_lexer": "ipython3",
   "version": "3.7.9"
  }
 },
 "nbformat": 4,
 "nbformat_minor": 4
}
