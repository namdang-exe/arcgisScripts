{
 "cells": [
  {
   "cell_type": "code",
   "execution_count": 3,
   "metadata": {},
   "outputs": [],
   "source": [
    "import arcpy\n",
    "from os import path"
   ]
  },
  {
   "cell_type": "code",
   "execution_count": 5,
   "metadata": {},
   "outputs": [],
   "source": [
    "filePath = r\"C:/Users/dangn/PycharmProjects/arcgisTest\""
   ]
  },
  {
   "cell_type": "code",
   "execution_count": 6,
   "metadata": {},
   "outputs": [
    {
     "name": "stdout",
     "output_type": "stream",
     "text": [
      "Connects to the database successfully!\n"
     ]
    }
   ],
   "source": [
    "# Create a connection to the database\n",
    "out_db = \"csvegisds1t.sde\"\n",
    "if not path.exists(out_db):\n",
    "    try:\n",
    "        out_db = arcpy.CreateDatabaseConnection_management(filePath, out_db,\n",
    "                                                           \"SQL_SERVER\", \"csvegisds1t\",\n",
    "                                                           account_authentication=False, database=\"GISDB\")\n",
    "        print(\"Connects to the database successfully!\")\n",
    "    except Exception as genErr:\n",
    "        print(\"General Error: {}\".format(genErr))\n",
    "        raise Exception(genErr)\n",
    "# Set the environment to the database\n",
    "arcpy.env.workspace = str(out_db)\n",
    "# Get all feature classes from the database\n",
    "featureClasses = arcpy.ListFeatureClasses()"
   ]
  },
  {
   "cell_type": "code",
   "execution_count": 12,
   "metadata": {},
   "outputs": [],
   "source": [
    "fc = featureClasses[0]\n",
    "fc?"
   ]
  },
  {
   "cell_type": "code",
   "execution_count": null,
   "metadata": {},
   "outputs": [],
   "source": [
    "# Disconnect with the database\n",
    "# os.remove(str(out_db))"
   ]
  }
 ],
 "metadata": {
  "kernelspec": {
   "display_name": "Python 3",
   "language": "python",
   "name": "python3"
  },
  "language_info": {
   "codemirror_mode": {
    "name": "ipython",
    "version": 3
   },
   "file_extension": ".py",
   "mimetype": "text/x-python",
   "name": "python",
   "nbconvert_exporter": "python",
   "pygments_lexer": "ipython3",
   "version": "3.7.9"
  }
 },
 "nbformat": 4,
 "nbformat_minor": 4
}
