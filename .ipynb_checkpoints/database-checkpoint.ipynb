{
 "cells": [
  {
   "cell_type": "code",
   "execution_count": 1,
   "metadata": {},
   "outputs": [],
   "source": [
    "import arcpy\n",
    "import os\n",
    "from os import path\n",
    "import pandas as pd\n",
    "import HelperScriptArcpy as helper\n",
    "import tempfile"
   ]
  },
  {
   "cell_type": "code",
   "execution_count": 2,
   "metadata": {},
   "outputs": [],
   "source": [
    "connectionPath = tempfile.TemporaryDirectory()"
   ]
  },
  {
   "cell_type": "code",
   "execution_count": 3,
   "metadata": {},
   "outputs": [
    {
     "name": "stdout",
     "output_type": "stream",
     "text": [
      "Connects to the database successfully!\n"
     ]
    }
   ],
   "source": [
    "db_path = helper.createTempConnection(connectionPath.name, \"csvrhds01.sde\", \"SQL_SERVER\", \"csvrhds01\",\n",
    "                                      \"OPERATING_SYSTEM_AUTH\", database=\"EGISDB\")"
   ]
  },
  {
   "cell_type": "code",
   "execution_count": 4,
   "metadata": {},
   "outputs": [],
   "source": [
    "arcpy.env.workspace = str(db_path)"
   ]
  },
  {
   "cell_type": "code",
   "execution_count": 8,
   "metadata": {},
   "outputs": [],
   "source": [
    "data = {}\n",
    "df = pd.DataFrame(data, columns=['Feature Dataset Name', 'Feature Class Name'])\n",
    "counter = 0"
   ]
  },
  {
   "cell_type": "code",
   "execution_count": 6,
   "metadata": {},
   "outputs": [],
   "source": [
    "featureDataset = arcpy.ListDatasets()\n",
    "if len(featureDataset) > 0:\n",
    "    for i in range(len(featureDataset)):\n",
    "        # Reset environment\n",
    "        arcpy.env.workspace = str(db_path)\n",
    "        featureDataset = arcpy.ListDatasets()\n",
    "        dataset = featureDataset[i]\n",
    "        # Set a new environment\n",
    "        arcpy.env.workspace = str(dataset)\n",
    "        featureClasses = arcpy.ListFeatureClasses()\n",
    "        for j in range(len(featureClasses)):\n",
    "            if j == 0:\n",
    "                df.loc[counter+j] = dataset, featureClasses[j]\n",
    "            else:\n",
    "                df.loc[counter+j] = \"\", featureClasses[j]\n",
    "        counter = counter + len(featureClasses)\n",
    "        # add the space at the end of each dataset\n",
    "        df.loc[counter] = \"\", \"\"\n",
    "        counter += 1"
   ]
  },
  {
   "cell_type": "code",
   "execution_count": 9,
   "metadata": {},
   "outputs": [],
   "source": [
    "arcpy.env.workspace = str(db_path)"
   ]
  },
  {
   "cell_type": "code",
   "execution_count": 10,
   "metadata": {},
   "outputs": [],
   "source": [
    "featureClasses = arcpy.ListFeatureClasses()\n",
    "if len(featureClasses) > 0:\n",
    "    for i in range(len(featureClasses)):\n",
    "        if i == 0:\n",
    "            df.loc[counter+i] = \"Root\", featureClasses[i]\n",
    "        else:\n",
    "            df.loc[counter+i] = \"\", featureClasses[i]\n",
    "    counter = counter + len(featureClasses)"
   ]
  },
  {
   "cell_type": "code",
   "execution_count": 13,
   "metadata": {},
   "outputs": [],
   "source": [
    "filePath = r\"C:/Users/dangn/PycharmProjects/arcgisTest\"\n",
    "outFile = filePath + r\"/database1.csv\"\n",
    "df.to_csv(outFile, index=False)"
   ]
  },
  {
   "cell_type": "code",
   "execution_count": null,
   "metadata": {},
   "outputs": [],
   "source": []
  }
 ],
 "metadata": {
  "kernelspec": {
   "display_name": "Python 3",
   "language": "python",
   "name": "python3"
  },
  "language_info": {
   "codemirror_mode": {
    "name": "ipython",
    "version": 3
   },
   "file_extension": ".py",
   "mimetype": "text/x-python",
   "name": "python",
   "nbconvert_exporter": "python",
   "pygments_lexer": "ipython3",
   "version": "3.8.5"
  }
 },
 "nbformat": 4,
 "nbformat_minor": 4
}
