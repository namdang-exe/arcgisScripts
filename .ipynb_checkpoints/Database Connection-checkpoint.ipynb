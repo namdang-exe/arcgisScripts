{
 "cells": [
  {
   "cell_type": "code",
   "execution_count": 51,
   "metadata": {},
   "outputs": [],
   "source": [
    "import arcpy\n",
    "import os\n",
    "from os import path\n",
    "import pandas as pd\n",
    "import HelperScriptArcpy as Helper"
   ]
  },
  {
   "cell_type": "code",
   "execution_count": 52,
   "metadata": {},
   "outputs": [],
   "source": [
    "filePath = r\"C:/Users/dangn/PycharmProjects/arcgisTest\"\n",
    "db_file = \"csvgisds24s.sde\"\n",
    "db_path = filePath + r\"/\" + db_file\n",
    "outfile = filePath + r\"/database3.csv\""
   ]
  },
  {
   "cell_type": "code",
   "execution_count": 53,
   "metadata": {},
   "outputs": [
    {
     "name": "stdout",
     "output_type": "stream",
     "text": [
      "Connects to the first database successfully!\n"
     ]
    }
   ],
   "source": [
    "if not path.exists(db_path):\n",
    "    try:\n",
    "        db_path = arcpy.CreateDatabaseConnection_management(filePath, db_file,\n",
    "                                                           \"SQL_SERVER\", \"csvgisds24s\",\n",
    "                                                           \"OPERATING_SYSTEM_AUTH\", database=\"EGISDB\")\n",
    "        print(\"Connects to the first database successfully!\")\n",
    "    except Exception as genErr:\n",
    "        print(\"General Error: {}\".format(genErr))\n",
    "        raise Exception(genErr)\n",
    "else:\n",
    "    print(\"Data connection file already created.\")"
   ]
  },
  {
   "cell_type": "code",
   "execution_count": 54,
   "metadata": {},
   "outputs": [],
   "source": [
    "# Create a dataframe to extract it into excel table\n",
    "data = {}\n",
    "df = pd.DataFrame(data, columns=['Feature Dataset Name', 'Feature Class Name'])\n",
    "counter = 0"
   ]
  },
  {
   "cell_type": "code",
   "execution_count": 55,
   "metadata": {},
   "outputs": [],
   "source": [
    "arcpy.env.workspace = str(db_path)"
   ]
  },
  {
   "cell_type": "code",
   "execution_count": 56,
   "metadata": {},
   "outputs": [],
   "source": [
    "featureClasses = arcpy.ListFeatureClasses()\n",
    "for i in range(len(featureClasses)):\n",
    "    if i == 0:\n",
    "        df.loc[counter+i] = \"Root\", featureClasses[i]\n",
    "    else:\n",
    "        df.loc[counter+i] = \"\", featureClasses[i]\n",
    "counter = counter + len(featureClasses)"
   ]
  },
  {
   "cell_type": "code",
   "execution_count": 58,
   "metadata": {},
   "outputs": [],
   "source": [
    "df.to_csv(outfile)"
   ]
  },
  {
   "cell_type": "code",
   "execution_count": 61,
   "metadata": {},
   "outputs": [],
   "source": [
    "os.remove(str(db_path))"
   ]
  }
 ],
 "metadata": {
  "kernelspec": {
   "display_name": "Python 3",
   "language": "python",
   "name": "python3"
  },
  "language_info": {
   "codemirror_mode": {
    "name": "ipython",
    "version": 3
   },
   "file_extension": ".py",
   "mimetype": "text/x-python",
   "name": "python",
   "nbconvert_exporter": "python",
   "pygments_lexer": "ipython3",
   "version": "3.7.9"
  }
 },
 "nbformat": 4,
 "nbformat_minor": 4
}
