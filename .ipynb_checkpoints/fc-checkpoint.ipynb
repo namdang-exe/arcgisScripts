{
 "cells": [
  {
   "cell_type": "code",
   "execution_count": 1,
   "metadata": {},
   "outputs": [],
   "source": [
    "import arcpy\n",
    "import HelperScript as helper\n",
    "import os\n",
    "from os import path"
   ]
  },
  {
   "cell_type": "code",
   "execution_count": 2,
   "metadata": {},
   "outputs": [],
   "source": [
    "needed_class = \"LRS_RINV_Divided\""
   ]
  },
  {
   "cell_type": "code",
   "execution_count": 3,
   "metadata": {},
   "outputs": [],
   "source": [
    "filePath = path.abspath(os.getcwd())\n",
    "source_db_path = path.join(filePath, \"webgisuser@csvgisds24s.sde\")  # read only file\n",
    "dest_db_path = path.join(filePath, \"EGIS@GISDBcsvegisds1t.sde\")  # write and read file\n",
    "GIS_TEMP_FILE = path.join(dest_db_path, \"Dest_temp_file\")\n",
    "# Log handler\n",
    "errorLog = path.join(filePath, \"logs\", \"log.txt\")"
   ]
  },
  {
   "cell_type": "code",
   "execution_count": 4,
   "metadata": {},
   "outputs": [],
   "source": [
    "QUERYDEF = \"(FromDate is null or FromDate<=CURRENT_TIMESTAMP) and (ToDate is null or ToDate>CURRENT_TIMESTAMP)\""
   ]
  },
  {
   "cell_type": "code",
   "execution_count": 5,
   "metadata": {},
   "outputs": [],
   "source": [
    "# send email\n",
    "sender = \"dangn@dot.state.al.us\"\n",
    "# receiver = [\"kohnkek@dot.state.al.us\", \"dangn@dot.state.al.us\"]\n",
    "receiver = [\"dangn@dot.state.al.us\"]\n",
    "subject = \"{} Update\".format(needed_class)"
   ]
  },
  {
   "cell_type": "code",
   "execution_count": 6,
   "metadata": {},
   "outputs": [],
   "source": [
    "arcpy.env.workspace = dest_db_path"
   ]
  },
  {
   "cell_type": "code",
   "execution_count": 7,
   "metadata": {},
   "outputs": [
    {
     "name": "stdout",
     "output_type": "stream",
     "text": [
      "Found the feature class in the destination database\n"
     ]
    }
   ],
   "source": [
    "# Check if the table exists in the destination database\n",
    "# If it does, then update it\n",
    "# Else create a new one\n",
    "featureClasses = arcpy.ListFeatureClasses()\n",
    "target_feature = None\n",
    "for fc in featureClasses:\n",
    "    if needed_class in fc:\n",
    "        print(\"Found the feature class in the destination database\")\n",
    "        target_feature = path.join(dest_db_path, fc)\n",
    "        break"
   ]
  },
  {
   "cell_type": "code",
   "execution_count": 8,
   "metadata": {},
   "outputs": [
    {
     "data": {
      "text/plain": [
       "'C:\\\\Users\\\\dangn\\\\PycharmProjects\\\\arcgisTest\\\\EGIS@GISDBcsvegisds1t.sde\\\\GISDB.EGIS.LRS_RINV_Divided'"
      ]
     },
     "execution_count": 8,
     "metadata": {},
     "output_type": "execute_result"
    }
   ],
   "source": [
    "target_feature"
   ]
  },
  {
   "cell_type": "code",
   "execution_count": 9,
   "metadata": {},
   "outputs": [],
   "source": [
    "if target_feature is None:\n",
    "    with open(errorLog, 'a') as errorMsg:\n",
    "        errorMsg.write(\"No feature class in the destination database\")\n",
    "    raise Exception(\"No feature class in the destination database\")"
   ]
  },
  {
   "cell_type": "code",
   "execution_count": 10,
   "metadata": {},
   "outputs": [],
   "source": [
    "arcpy.env.workspace = source_db_path"
   ]
  },
  {
   "cell_type": "code",
   "execution_count": 11,
   "metadata": {},
   "outputs": [],
   "source": [
    "featureClasses = arcpy.ListFeatureClasses()"
   ]
  },
  {
   "cell_type": "code",
   "execution_count": 12,
   "metadata": {},
   "outputs": [
    {
     "name": "stdout",
     "output_type": "stream",
     "text": [
      "Found the feature class in the source database\n"
     ]
    }
   ],
   "source": [
    "# Check if the table exists in the source database\n",
    "source_feature = None\n",
    "for fc in featureClasses:\n",
    "    if needed_class in fc:\n",
    "        print(\"Found the feature class in the source database\")\n",
    "        source_feature = path.join(source_db_path, fc)\n",
    "        break"
   ]
  },
  {
   "cell_type": "code",
   "execution_count": 13,
   "metadata": {},
   "outputs": [],
   "source": [
    "if source_feature is None:\n",
    "    with open(errorLog, 'a') as errorMsg:\n",
    "        errorMsg.write(\"No feature class in the source database\")\n",
    "    raise Exception(\"No feature class in the source database\")"
   ]
  },
  {
   "cell_type": "code",
   "execution_count": 14,
   "metadata": {},
   "outputs": [
    {
     "data": {
      "text/plain": [
       "'C:\\\\Users\\\\dangn\\\\PycharmProjects\\\\arcgisTest\\\\webgisuser@csvgisds24s.sde\\\\EGISDB.LRS.LRS_RINV_Divided'"
      ]
     },
     "execution_count": 14,
     "metadata": {},
     "output_type": "execute_result"
    }
   ],
   "source": [
    "source_feature"
   ]
  },
  {
   "cell_type": "code",
   "execution_count": 15,
   "metadata": {},
   "outputs": [
    {
     "name": "stdout",
     "output_type": "stream",
     "text": [
      "Deleting temp table\n"
     ]
    },
    {
     "data": {
      "text/html": [
       "<h2>Output</h2>true<h2>Messages</h2>Start Time: Thursday, March 18, 2021 8:56:39 AM<br/>WARNING 000110: C:\\Users\\dangn\\PycharmProjects\\arcgisTest\\EGIS@GISDBcsvegisds1t.sde\\Dest_temp_file does not exist<br/>Succeeded at Thursday, March 18, 2021 8:56:39 AM (Elapsed Time: 0.00 seconds)<br/><style>.rendered_html td, .rendered_html th {text-align: left;}.rendered_html tbody {border: 1px solid black;}</style>"
      ],
      "text/plain": [
       "<Result 'true'>"
      ]
     },
     "execution_count": 15,
     "metadata": {},
     "output_type": "execute_result"
    }
   ],
   "source": [
    "print(\"Deleting temp table\")\n",
    "arcpy.Delete_management(GIS_TEMP_FILE)"
   ]
  },
  {
   "cell_type": "code",
   "execution_count": 22,
   "metadata": {},
   "outputs": [
    {
     "name": "stdout",
     "output_type": "stream",
     "text": [
      "Selecting table attributes\n"
     ]
    }
   ],
   "source": [
    "# Selection with query\n",
    "print(\"Selecting table attributes\")\n",
    "t = arcpy.Select_analysis(source_feature, GIS_TEMP_FILE, QUERYDEF)"
   ]
  },
  {
   "cell_type": "code",
   "execution_count": 17,
   "metadata": {},
   "outputs": [
    {
     "name": "stdout",
     "output_type": "stream",
     "text": [
      "Counting the selection\n"
     ]
    }
   ],
   "source": [
    "print(\"Counting the selection\")\n",
    "tempCount = arcpy.GetCount_management(GIS_TEMP_FILE)\n",
    "count = int(tempCount.getOutput(0))\n",
    "if count == 0:\n",
    "    print(\"No new update\")\n",
    "    raise Exception(\"There are no new update\")"
   ]
  },
  {
   "cell_type": "code",
   "execution_count": 39,
   "metadata": {},
   "outputs": [
    {
     "data": {
      "text/plain": [
       "'1508'"
      ]
     },
     "execution_count": 39,
     "metadata": {},
     "output_type": "execute_result"
    }
   ],
   "source": [
    "tempCount.getOutput(0)"
   ]
  },
  {
   "cell_type": "code",
   "execution_count": 18,
   "metadata": {},
   "outputs": [
    {
     "name": "stdout",
     "output_type": "stream",
     "text": [
      "Truncating tables\n"
     ]
    },
    {
     "data": {
      "text/html": [
       "<h2>Output</h2>C:\\Users\\dangn\\PycharmProjects\\arcgisTest\\EGIS@GISDBcsvegisds1t.sde\\GISDB.EGIS.LRS_RINV_Divided<h2>Messages</h2>Start Time: Thursday, March 18, 2021 8:56:48 AM<br/>Succeeded at Thursday, March 18, 2021 8:56:49 AM (Elapsed Time: 0.70 seconds)<br/><style>.rendered_html td, .rendered_html th {text-align: left;}.rendered_html tbody {border: 1px solid black;}</style>"
      ],
      "text/plain": [
       "<Result 'C:\\\\Users\\\\dangn\\\\PycharmProjects\\\\arcgisTest\\\\EGIS@GISDBcsvegisds1t.sde\\\\GISDB.EGIS.LRS_RINV_Divided'>"
      ]
     },
     "execution_count": 18,
     "metadata": {},
     "output_type": "execute_result"
    }
   ],
   "source": [
    "# Truncate the table of the destination feature class\n",
    "print(\"Truncating tables\")\n",
    "arcpy.TruncateTable_management(target_feature)"
   ]
  },
  {
   "cell_type": "code",
   "execution_count": 19,
   "metadata": {},
   "outputs": [
    {
     "name": "stdout",
     "output_type": "stream",
     "text": [
      "Appending the selection\n"
     ]
    },
    {
     "data": {
      "text/html": [
       "<h2>Output</h2>C:\\Users\\dangn\\PycharmProjects\\arcgisTest\\EGIS@GISDBcsvegisds1t.sde\\GISDB.EGIS.LRS_RINV_Divided<h2>Messages</h2>Start Time: Thursday, March 18, 2021 8:56:51 AM<br/>Succeeded at Thursday, March 18, 2021 8:56:53 AM (Elapsed Time: 2.12 seconds)<br/><style>.rendered_html td, .rendered_html th {text-align: left;}.rendered_html tbody {border: 1px solid black;}</style>"
      ],
      "text/plain": [
       "<Result 'C:\\\\Users\\\\dangn\\\\PycharmProjects\\\\arcgisTest\\\\EGIS@GISDBcsvegisds1t.sde\\\\GISDB.EGIS.LRS_RINV_Divided'>"
      ]
     },
     "execution_count": 19,
     "metadata": {},
     "output_type": "execute_result"
    }
   ],
   "source": [
    "# Append the selection to the table at target database\n",
    "print(\"Appending the selection\")\n",
    "arcpy.Append_management(GIS_TEMP_FILE, target_feature, \"TEST\")"
   ]
  },
  {
   "cell_type": "code",
   "execution_count": 20,
   "metadata": {},
   "outputs": [
    {
     "data": {
      "text/html": [
       "<h2>Output</h2>true<h2>Messages</h2>Start Time: Thursday, March 18, 2021 8:56:54 AM<br/>Succeeded at Thursday, March 18, 2021 8:56:56 AM (Elapsed Time: 1.41 seconds)<br/><style>.rendered_html td, .rendered_html th {text-align: left;}.rendered_html tbody {border: 1px solid black;}</style>"
      ],
      "text/plain": [
       "<Result 'true'>"
      ]
     },
     "execution_count": 20,
     "metadata": {},
     "output_type": "execute_result"
    }
   ],
   "source": [
    "arcpy.Delete_management(GIS_TEMP_FILE)"
   ]
  },
  {
   "cell_type": "code",
   "execution_count": 21,
   "metadata": {},
   "outputs": [],
   "source": [
    "helper.send_email(sender, receiver, subject, \"{} Update was successful.\".format(needed_class))"
   ]
  }
 ],
 "metadata": {
  "kernelspec": {
   "display_name": "Python 3",
   "language": "python",
   "name": "python3"
  },
  "language_info": {
   "codemirror_mode": {
    "name": "ipython",
    "version": 3
   },
   "file_extension": ".py",
   "mimetype": "text/x-python",
   "name": "python",
   "nbconvert_exporter": "python",
   "pygments_lexer": "ipython3",
   "version": "3.7.9"
  }
 },
 "nbformat": 4,
 "nbformat_minor": 4
}
